{
 "cells": [
  {
   "cell_type": "code",
   "execution_count": 7,
   "id": "d6da1aae",
   "metadata": {},
   "outputs": [
    {
     "name": "stdout",
     "output_type": "stream",
     "text": [
      "[0.         0.00628319 0.01256637 ... 6.27061894 6.27690212 6.28318531]\n"
     ]
    },
    {
     "name": "stderr",
     "output_type": "stream",
     "text": [
      "100%|█████████████████████████████████████████| 100/100 [00:55<00:00,  1.79it/s]\n"
     ]
    }
   ],
   "source": [
    "import numpy as np\n",
    "import matplotlib.pyplot as plt\n",
    "import os\n",
    "import imageio\n",
    "from tqdm import tqdm\n",
    "t = np.linspace(0,2*np.pi,1001)\n",
    "offset = 2.4 #space between  graphs (plus 2)\n",
    "filenames = []\n",
    "for i in tqdm(range(0,len(t)-1,10)):\n",
    "    smallt = t[:i]\n",
    "    plt.figure(figsize=(12,12)) #changing this changes the resolution but in scary unpredicatalbe ways\n",
    "    for a in range(1,7): #how many graphs left to right\n",
    "        for b in range(1,7): #how many graphs top to bottom\n",
    "            #plot the grey curve\n",
    "            plt.plot(np.cos(a*t) + a*offset,np.sin(b*t) + 24 - b*offset,color=\"gray\",alpha = 0.3)\n",
    "            #plot the animated curve\n",
    "            plt.plot(np.cos(a*smallt) + a*offset,np.sin(b*smallt) + 24 - b*offset, linewidth = 1.2)\n",
    "            #plot the point\n",
    "            plt.scatter(np.cos(a*t[i]) + a*offset,np.sin(b*t[i]) + 24 - b*offset,color = \"black\")\n",
    "    filename = f'{i}.png'\n",
    "    filenames.append(filename)\n",
    "    #this makes a bunch of files\n",
    "    plt.savefig(filename)\n",
    "    plt.close()\n",
    "#Make gif\n",
    "with imageio.get_writer(f'graphs.gif', mode='I') as writer:\n",
    "    for filename in filenames:\n",
    "        image = imageio.imread(filename)\n",
    "        writer.append_data(image)\n",
    "#Remove files\n",
    "for filename in set(filenames):\n",
    "    os.remove(filename)"
   ]
  },
  {
   "cell_type": "code",
   "execution_count": null,
   "id": "cdb80887",
   "metadata": {},
   "outputs": [],
   "source": []
  }
 ],
 "metadata": {
  "kernelspec": {
   "display_name": "Python 3 (ipykernel)",
   "language": "python",
   "name": "python3"
  },
  "language_info": {
   "codemirror_mode": {
    "name": "ipython",
    "version": 3
   },
   "file_extension": ".py",
   "mimetype": "text/x-python",
   "name": "python",
   "nbconvert_exporter": "python",
   "pygments_lexer": "ipython3",
   "version": "3.9.7"
  }
 },
 "nbformat": 4,
 "nbformat_minor": 5
}
