{
 "cells": [
  {
   "cell_type": "code",
   "execution_count": 1,
   "metadata": {},
   "outputs": [],
   "source": [
    "import numpy as np\n",
    "import matplotlib.pyplot as plt\n",
    "import random"
   ]
  },
  {
   "cell_type": "code",
   "execution_count": 2,
   "metadata": {},
   "outputs": [],
   "source": [
    "smallblock = np.matrix([[1,1,1,1,1],\n",
    "              [1,0,0,0,1],\n",
    "              [1,0,1,0,1],\n",
    "              [1,0,0,0,1],\n",
    "              [1,1,1,1,1]])\n",
    "bigblock = np.matrix([[1,1,1,1,1,1,1],\n",
    "            [1,0,0,0,0,0,1],\n",
    "            [1,0,1,1,1,0,1],\n",
    "            [1,0,1,1,1,0,1],\n",
    "            [1,0,1,1,1,0,1],\n",
    "            [1,0,0,0,0,0,1],\n",
    "            [1,1,1,1,1,1,1]])\n",
    "            "
   ]
  },
  {
   "cell_type": "code",
   "execution_count": 3,
   "metadata": {},
   "outputs": [
    {
     "data": {
      "image/png": "[encoded data removed]",
      "text/plain": [
       "<Figure size 576x576 with 1 Axes>"
      ]
     },
     "metadata": {
      "needs_background": "light"
     },
     "output_type": "display_data"
    },
    {
     "data": {
      "text/plain": [
       "(7, 7)"
      ]
     },
     "execution_count": 3,
     "metadata": {},
     "output_type": "execute_result"
    }
   ],
   "source": [
    "def Plot(matrix,padding = False):\n",
    "    ratio = matrix.shape[1]/matrix.shape[0]\n",
    "    plt.figure(figsize=(8*ratio,8))\n",
    "    plt.xlim(-4*padding,matrix.shape[1]+4*padding)\n",
    "    plt.ylim(-4*padding,matrix.shape[0]+4*padding)\n",
    "    ax = plt.gca()\n",
    "    for i in range(matrix.shape[1]):\n",
    "        for j in range(matrix.shape[0]):\n",
    "            if matrix[j,i]:\n",
    "                # Black is 1 on odd rows\n",
    "                ax.add_patch(plt.Rectangle((i,len(matrix)-1-j),1,1,color = 'black'))\n",
    "            \n",
    "            \n",
    "            \n",
    "            \n",
    "#             if j%2 == 0:\n",
    "#                 if not matrix[j][i]:\n",
    "#                     # Black is 0 on even rows\n",
    "#                     ax.add_patch(plt.Rectangle((i,len(matrix)-1-j),1,1,color = 'black'))\n",
    "#             else:\n",
    "#                 if matrix[j][i]:\n",
    "#                     # Black is 1 on odd rows\n",
    "#                     ax.add_patch(plt.Rectangle((i,len(matrix)-1-j),1,1,color = 'black'))\n",
    "    plt.show()\n",
    "Plot(bigblock,True)\n",
    "bigblock.shape"
   ]
  },
  {
   "cell_type": "code",
   "execution_count": 7,
   "metadata": {},
   "outputs": [],
   "source": [
    "V = 1\n",
    "N = 4*V+17\n",
    "matrix = np.matrix(np.zeros((N,N)))\n",
    "# matrix = np.matrix([[round(random.random()) for i in range(N)] for j in range(N)])\n",
    "#CORNERS\n",
    "matrix[:8,:8] = np.zeros((8,8))\n",
    "matrix[:7,:7] = bigblock\n",
    "matrix[:8,-8:] = np.zeros((8,8))\n",
    "matrix[:7,-7:] = bigblock\n",
    "matrix[-8:,:8] = np.zeros((8,8))\n",
    "matrix[-7:,:7] = bigblock\n",
    "\n",
    "# TIMING, i think\n",
    "matrix[6,8:-8] = [1] + [0,1]*2*V\n",
    "matrix[8:-8,6] = [[1]] + [[0],[1]]*2*V\n",
    "\n",
    "# one specific pixel\n",
    "matrix[-8,8] = 1"
   ]
  },
  {
   "cell_type": "code",
   "execution_count": 8,
   "metadata": {},
   "outputs": [
    {
     "name": "stdout",
     "output_type": "stream",
     "text": [
      "0010\n",
      "000010000\n",
      "00100000100001010011010000111011001101000100001000111001110001010001011101111111100111001010110111110\n",
      "00100000100001010011010000111011001101000100001000111001110001010001011101111111100111001010110111110000000000001110110000010001111011000001000111101100\n",
      "The message polynomial has coefficients: [32, 133, 52, 59, 52, 66, 57, 197, 23, 127, 156, 173, 240, 0, 236, 17, 236, 17, 236]\n",
      "The generator polynomial has coefficients: [1, 127, 122, 154, 164, 11, 68, 117]\n",
      "The error codewords are: [11, 56, 166, 173, 33, 117, 9]\n",
      "208\n",
      "0010000010000101001101000011101100110100010000100011100111000101000101110111111110011100101011011111000000000000111011000001000111101100000100011110110000001011001110001010011010101101001000010111010100001001\n"
     ]
    }
   ],
   "source": [
    "#for now assume V = 1 so no smallblock/alignment nonsense\n",
    "#alphanumeric mode: 0010\n",
    "mode = \"0010\"\n",
    "print(mode)\n",
    "text = \"trans people uwu\"\n",
    "charcount = len(text)\n",
    "ccbinary = \"0\"*(9-len(str(bin(charcount))[2:]))+str(bin(charcount))[2:] #version 1 alphanumeric: length is 9 bits\n",
    "print(ccbinary)\n",
    "encoded = mode + ccbinary + encoder(text)\n",
    "print(encoded)\n",
    "# print(len(encoded))\n",
    "# print(\"total bits actually needed:\",19*8)\n",
    "encoded += max(4,len(encoded) - 19*8)*\"0\"\n",
    "if len(encoded)%8 != 0:\n",
    "    encoded += (8-len(encoded)%8)*\"0\"\n",
    "# print(len(encoded))\n",
    "i = 0\n",
    "while len(encoded) < 19*8:\n",
    "    if i%2 == 0:\n",
    "        encoded += \"11101100\"\n",
    "    else:\n",
    "        encoded += \"00010001\"\n",
    "    i += 1\n",
    "print(encoded)\n",
    "message = [int(encoded[8*i:8*i+8],2) for i in range(19)]\n",
    "print(\"The message polynomial has coefficients:\",message)\n",
    "n = 7 #number of error correction codewords for 1-L\n",
    "generator = [1] #polynomial of x - 1\n",
    "for i in range(n):\n",
    "    generator = polymult(generator,[GF[0],GF[i]])\n",
    "#print([GF.index(g) for g in generator])\n",
    "print(\"The generator polynomial has coefficients:\",generator)\n",
    "\n",
    "errorcodes = polydivide(message,generator)\n",
    "print(\"The error codewords are:\",errorcodes)\n",
    "fullbin = \"\".join([\"0\"*(8-len(str(bin(e))[2:]))+str(bin(e))[2:] for e in (message+errorcodes)])\n",
    "print(len(fullbin))\n",
    "print(fullbin)"
   ]
  },
  {
   "cell_type": "code",
   "execution_count": 9,
   "metadata": {},
   "outputs": [
    {
     "name": "stdout",
     "output_type": "stream",
     "text": [
      "208\n",
      "208\n"
     ]
    },
    {
     "data": {
      "image/png": "[encoded data removed]",
      "text/plain": [
       "<Figure size 576x576 with 1 Axes>"
      ]
     },
     "metadata": {
      "needs_background": "light"
     },
     "output_type": "display_data"
    }
   ],
   "source": [
    "#begin the train!!!\n",
    "print(len(fullbin))\n",
    "placed = 0\n",
    "pointer = [20,20]\n",
    "while pointer[0] > 8: \n",
    "    matrix[pointer[0],pointer[1]] = fullbin[placed] \n",
    "    placed += 1\n",
    "    pointer[1] -= 1\n",
    "    matrix[pointer[0],pointer[1]] = fullbin[placed] \n",
    "    placed += 1\n",
    "    pointer[1] += 1\n",
    "    pointer[0] -= 1\n",
    "    \n",
    "pointer[0] += 1\n",
    "pointer[1] -= 2\n",
    "\n",
    "while pointer[0] < 21:\n",
    "    matrix[pointer[0],pointer[1]] = fullbin[placed] \n",
    "    placed += 1\n",
    "    pointer[1] -= 1\n",
    "    matrix[pointer[0],pointer[1]] = fullbin[placed] \n",
    "    placed += 1\n",
    "    pointer[1] += 1\n",
    "    pointer[0] += 1\n",
    "\n",
    "pointer[0] -= 1\n",
    "pointer[1] -= 2\n",
    "\n",
    "while pointer[0] > 8: \n",
    "    matrix[pointer[0],pointer[1]] = fullbin[placed] \n",
    "    placed += 1\n",
    "    pointer[1] -= 1\n",
    "    matrix[pointer[0],pointer[1]] = fullbin[placed] \n",
    "    placed += 1\n",
    "    pointer[1] += 1\n",
    "    pointer[0] -= 1\n",
    "\n",
    "pointer[0] += 1\n",
    "pointer[1] -= 2\n",
    "\n",
    "while pointer[0] < 21:\n",
    "    matrix[pointer[0],pointer[1]] = fullbin[placed] \n",
    "    placed += 1\n",
    "    pointer[1] -= 1\n",
    "    matrix[pointer[0],pointer[1]] = fullbin[placed] \n",
    "    placed += 1\n",
    "    pointer[1] += 1\n",
    "    pointer[0] += 1\n",
    "    \n",
    "pointer[0] -= 1\n",
    "pointer[1] -= 2\n",
    "\n",
    "while pointer[0] > -1:\n",
    "    matrix[pointer[0],pointer[1]] = fullbin[placed] \n",
    "    placed += 1\n",
    "    pointer[1] -= 1\n",
    "    matrix[pointer[0],pointer[1]] = fullbin[placed] \n",
    "    placed += 1\n",
    "    pointer[1] += 1\n",
    "    pointer[0] -= 1\n",
    "    if pointer[0] == 6:\n",
    "        pointer[0] -= 1\n",
    "    \n",
    "pointer[0] += 1\n",
    "pointer[1] -= 2\n",
    "\n",
    "while pointer[0] < 21:\n",
    "    matrix[pointer[0],pointer[1]] = fullbin[placed] \n",
    "    placed += 1\n",
    "    pointer[1] -= 1\n",
    "    matrix[pointer[0],pointer[1]] = fullbin[placed] \n",
    "    placed += 1\n",
    "    pointer[1] += 1\n",
    "    pointer[0] += 1\n",
    "    if pointer[0] == 6:\n",
    "        pointer[0] += 1\n",
    "\n",
    "pointer[0] -= 9\n",
    "pointer[1] -= 2\n",
    "while pointer[0] > 8:\n",
    "    matrix[pointer[0],pointer[1]] = fullbin[placed] \n",
    "    placed += 1\n",
    "    pointer[1] -= 1\n",
    "    matrix[pointer[0],pointer[1]] = fullbin[placed] \n",
    "    placed += 1\n",
    "    pointer[1] += 1\n",
    "    pointer[0] -= 1\n",
    "\n",
    "pointer[1] -= 3\n",
    "pointer[0] += 1\n",
    "\n",
    "while pointer[0] < 13:\n",
    "    matrix[pointer[0],pointer[1]] = fullbin[placed] \n",
    "    placed += 1\n",
    "    pointer[1] -= 1\n",
    "    matrix[pointer[0],pointer[1]] = fullbin[placed] \n",
    "    placed += 1\n",
    "    pointer[1] += 1\n",
    "    pointer[0] += 1\n",
    "    \n",
    "pointer[0] -= 1\n",
    "pointer[1] -= 2\n",
    "while pointer[0] > 8:\n",
    "    matrix[pointer[0],pointer[1]] = fullbin[placed] \n",
    "    placed += 1\n",
    "    pointer[1] -= 1\n",
    "    matrix[pointer[0],pointer[1]] = fullbin[placed] \n",
    "    placed += 1\n",
    "    pointer[1] += 1\n",
    "    pointer[0] -= 1\n",
    "\n",
    "pointer[1] -= 2\n",
    "pointer[0] += 1\n",
    "\n",
    "while pointer[0] < 13:\n",
    "    matrix[pointer[0],pointer[1]] = fullbin[placed] \n",
    "    placed += 1\n",
    "    pointer[1] -= 1\n",
    "    matrix[pointer[0],pointer[1]] = fullbin[placed] \n",
    "    placed += 1\n",
    "    pointer[1] += 1\n",
    "    pointer[0] += 1\n",
    "print(placed)\n",
    "Plot(matrix)\n",
    "\n"
   ]
  },
  {
   "cell_type": "code",
   "execution_count": 11,
   "metadata": {
    "scrolled": false
   },
   "outputs": [],
   "source": [
    "#masking \n",
    "count = 0\n",
    "\n",
    "def mask(x,y,method = 0):\n",
    "        return [(x+y)%2 == 0, y%2 == 0, x % 3 == 0, (x+y)%3 == 0, (y//2 + x//3) % 2 == 0, (x*y)%2 + (x*y)%3 == 0, ((x*y)%2 + (x*y)%3)%2 == 0, ((x+y)%2 + (x*y)%3)%2 == 0 ][method]\n",
    "    \n",
    "\n",
    "for method in range(8):\n",
    "    newmat = matrix.copy()\n",
    "    for x in range(21):\n",
    "        for y in range(21):\n",
    "                if (y <= 8 and x >= 9 and x <= 12 and y != 6) or (x <= 8 and x != 6 and y > 8 and y < 13) or (x>8 and y > 8): \n",
    "                    if mask(x,y,method):\n",
    "                        newmat[y,x] = 1 - newmat[y,x]\n",
    "                        count += 1\n",
    "\n",
    "\n",
    "\n",
    "\n"
   ]
  },
  {
   "cell_type": "code",
   "execution_count": 12,
   "metadata": {},
   "outputs": [
    {
     "name": "stdout",
     "output_type": "stream",
     "text": [
      "[0, 1, 1, 1, 1]\n",
      "[0, 1, 1, 1, 1, 0, 0, 0, 0, 0]\n",
      "110100111110010\n"
     ]
    }
   ],
   "source": [
    "#L error\n",
    "errorcorrection = \"01\"\n",
    "#lets assume 7 had the best skill score for now\n",
    "method = \"111\"\n",
    "format5 = [int(i) for i in (errorcorrection + method)]\n",
    "formatgen = [1,0,1,0,0,1,1,0,1,1,1] #QR spec\n",
    "print(format5)\n",
    "newformat = format5.copy()\n",
    "while len(newformat) < 15:\n",
    "    newformat.append(0)\n",
    "while newformat[0] == 0:\n",
    "    newformat.pop(0)\n",
    "formatremainder = polydivide(newformat,formatgen)\n",
    "while len(formatremainder) < 10:\n",
    "    formatremainder = [0] + formatremainder\n",
    "print(formatremainder)\n",
    "fullformat = int(\"\".join([str(i) for i in format5 + formatremainder]),2)\n",
    "formatbin = bin(fullformat ^ 21522)[2:] #QR spec\n",
    "print(formatbin)\n",
    "#this is wrong, sad\n",
    "formatbin = \"110100101110110\""
   ]
  },
  {
   "cell_type": "code",
   "execution_count": 13,
   "metadata": {},
   "outputs": [
    {
     "data": {
      "image/png": "[encoded data removed]",
      "text/plain": [
       "<Figure size 576x576 with 1 Axes>"
      ]
     },
     "metadata": {
      "needs_background": "light"
     },
     "output_type": "display_data"
    }
   ],
   "source": [
    "pointerlist1 = [[8,0],[8,1],[8,2],[8,3],[8,4],[8,5],[8,7],[8,8],[7,8],[5,8],[4,8],[3,8],[2,8],[1,8],[0,8]]\n",
    "pointerlist2 = [[20,8],[19,8],[18,8],[17,8],[16,8],[15,8],[14,8],[8,13],[8,14],[8,15],[8,16],[8,17],[8,18],[8,19],[8,20]]         \n",
    "for i,point in enumerate(pointerlist1):\n",
    "    newmat[point[0],point[1]] = int(formatbin[i])\n",
    "for i,point in enumerate(pointerlist2):\n",
    "    newmat[point[0],point[1]] = int(formatbin[i])\n",
    "\n",
    "\n",
    "Plot(newmat,True)"
   ]
  },
  {
   "cell_type": "code",
   "execution_count": 4,
   "metadata": {},
   "outputs": [
    {
     "data": {
      "text/plain": [
       "50"
      ]
     },
     "execution_count": 4,
     "metadata": {},
     "output_type": "execute_result"
    }
   ],
   "source": [
    "#if we were to use alphanumaric mode, these functions would be useful\n",
    "def encoder(message):\n",
    "    charlist = [\"0\",\"1\",\"2\",\"3\",\"4\",\"5\",\"6\",\"7\",\"8\",\"9\",\"A\",\"B\",\"C\",\"D\",\"E\",\"F\",\"G\",\"H\",\"I\",\"J\",\"K\",\"L\",\"M\",\"N\",\"O\",\"P\",\"Q\",\"R\",\"S\",\"T\",\"U\",\"V\",\"W\",\"X\",\"Y\",\"Z\",\" \",\"$\",\"%\",\"*\",\"+\",\"-\",\".\",\"/\",\":\"]        \n",
    "    encoded = []\n",
    "    message = message.upper()\n",
    "    \n",
    "    for i in range(len(message)//2):\n",
    "        c1 = charlist.index(message[2*i])\n",
    "        c2 = charlist.index(message[2*i+1])\n",
    "        encoded += [45*c1 + c2]\n",
    "    encbin = \"\".join([\"0\"*(11-len(str(bin(e))[2:]))+str(bin(e))[2:] for e in encoded])\n",
    "    if len(message)%2 == 1:\n",
    "        encbin += \"0\"*(6-len(str(bin(charlist.index(message[-1])))[2:]))+str(bin(charlist.index(message[-1])))[2:]\n",
    "    return encbin\n",
    "\n",
    "    \n",
    "len(encoder(\"peepee1q-\"))\n",
    "# len(encoder(\"github.com/aislingheanuea\"))\n",
    "# len(\"https://youtu.be/dQw4w9WgXcQ\")\n",
    "# len(\"youtu.be/dQw4w9WgXcQ\")\n",
    "        "
   ]
  },
  {
   "cell_type": "code",
   "execution_count": 6,
   "metadata": {},
   "outputs": [
    {
     "name": "stdout",
     "output_type": "stream",
     "text": [
      "[1, 5, 66, 6, 67, 3]\n"
     ]
    }
   ],
   "source": [
    "#lets make the power talbe of the Galois Field GF(256) real quick\n",
    "#\"real quick\" she said -.-\n",
    "GF = [1]\n",
    "for i in range(1,256):\n",
    "    if 2*GF[-1] < 256:\n",
    "        GF.append(2*GF[-1])\n",
    "    else:\n",
    "        GF.append(2*GF[-1]^285)\n",
    "#print(GF)\n",
    "mult = lambda a,b: GF[(GF.index(a) + GF.index(b))%255] if a != 0 and b != 0 else 0\n",
    "add = lambda a,b: a^b\n",
    "#multiplying polynomials\n",
    "def polymult(l1,l2):\n",
    "    #inputs are lists with coefficients of x^n ... x^0\n",
    "    #reverse the lists\n",
    "    rl1 = l1[::-1]\n",
    "    rl2 = l2[::-1]\n",
    "    routput = [0]*2*max(len(l1),len(l2))\n",
    "    for index1,num1 in enumerate(rl1):\n",
    "        #print(index1,num1)\n",
    "        for index2,num2 in enumerate(rl2):\n",
    "            routput[index1+index2] = add(routput[index1+index2],mult(num1,num2))\n",
    "    #unreverse the list\n",
    "    output = routput[::-1]\n",
    "    #delete any leading zeros\n",
    "    while output != [] and output[0] == 0:\n",
    "        output.pop(0)\n",
    "    return output\n",
    "        \n",
    "def polydivide(message,generator): #we want to divide message by gen\n",
    "    gen = generator.copy()\n",
    "    n = len(gen)-1 # 7\n",
    "    #multiply the message by x^7\n",
    "    remainder = message.copy()\n",
    "    remainder += [0]*n\n",
    "    gen += [0]*(len(remainder)-len(generator))\n",
    "    while(len(remainder) > n):\n",
    "        remainder = [add(remainder[i],polymult([remainder[0]],gen)[i]) for i in range(len(remainder))]\n",
    "        gen.pop(-1) #divide by x\n",
    "        while remainder != [] and remainder[0] == 0: #remove leading zeros\n",
    "            remainder.pop(0)\n",
    "    return remainder\n",
    "    \n",
    "print(polymult([0,1,5,67,3],[1,0,1]))\n"
   ]
  },
  {
   "cell_type": "code",
   "execution_count": null,
   "metadata": {},
   "outputs": [],
   "source": []
  }
 ],
 "metadata": {
  "kernelspec": {
   "display_name": "Python 3",
   "language": "python",
   "name": "python3"
  },
  "language_info": {
   "codemirror_mode": {
    "name": "ipython",
    "version": 3
   },
   "file_extension": ".py",
   "mimetype": "text/x-python",
   "name": "python",
   "nbconvert_exporter": "python",
   "pygments_lexer": "ipython3",
   "version": "3.8.5"
  }
 },
 "nbformat": 4,
 "nbformat_minor": 4
}
