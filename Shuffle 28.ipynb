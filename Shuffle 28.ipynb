{
 "cells": [
  {
   "cell_type": "markdown",
   "id": "d6a69593",
   "metadata": {},
   "source": [
    "Did you know there are 104 ways you can arrange the numbers 1 to 28 and have each consequtive pair sum to a square number?"
   ]
  },
  {
   "cell_type": "code",
   "execution_count": 22,
   "id": "a60dc8d1",
   "metadata": {},
   "outputs": [
    {
     "name": "stdout",
     "output_type": "stream",
     "text": [
      "Count:  0, N: 0\n",
      "Count:  0, N: 1\n",
      "Count:  0, N: 2\n",
      "Count:  0, N: 3\n",
      "Count:  0, N: 4\n",
      "Count:  0, N: 5\n",
      "Count:  0, N: 6\n",
      "Count:  0, N: 7\n",
      "Count:  0, N: 8\n",
      "Count:  0, N: 9\n",
      "Count:  0, N:10\n",
      "Count:  0, N:11\n",
      "Count:  0, N:12\n",
      "Count:  0, N:13\n",
      "Count:  0, N:14\n",
      "Count:  2, N:15\n",
      "Count:  2, N:16\n",
      "Count:  2, N:17\n",
      "Count:  0, N:18\n",
      "Count:  0, N:19\n",
      "Count:  0, N:20\n",
      "Count:  0, N:21\n",
      "Count:  0, N:22\n",
      "Count:  6, N:23\n",
      "Count:  0, N:24\n",
      "Count: 20, N:25\n",
      "Count: 24, N:26\n",
      "Count: 70, N:27\n",
      "Count:104, N:28\n",
      "Count: 38, N:29\n",
      "Count: 40, N:30\n"
     ]
    }
   ],
   "source": [
    "for N in range(31):\n",
    "    squares = [x**2 for x in range(1,8)]\n",
    "    def newnum(num):\n",
    "        if len(num) == N:\n",
    "            return num\n",
    "\n",
    "        validi = []\n",
    "        for i in range(1,N+1):\n",
    "            if i + num[-1] in squares and i not in num:\n",
    "                validi.append(i)\n",
    "\n",
    "        if len(validi) == 0:\n",
    "            return 0\n",
    "\n",
    "        for j in validi:\n",
    "            out = newnum(num + [j])\n",
    "            if out != 0:\n",
    "                #print(out)\n",
    "                global count\n",
    "                count += 1\n",
    "        return 0\n",
    "    \n",
    "    global count\n",
    "    count = 0\n",
    "    for i in range(1,N+1):\n",
    "        newnum([i])\n",
    "\n",
    "    print(f\"Count:{count:3d}, N:{N:2d}\")"
   ]
  },
  {
   "cell_type": "code",
   "execution_count": 2,
   "id": "40dfae26",
   "metadata": {},
   "outputs": [],
   "source": [
    "newnum([20])"
   ]
  }
 ],
 "metadata": {
  "kernelspec": {
   "display_name": "Python 3 (ipykernel)",
   "language": "python",
   "name": "python3"
  },
  "language_info": {
   "codemirror_mode": {
    "name": "ipython",
    "version": 3
   },
   "file_extension": ".py",
   "mimetype": "text/x-python",
   "name": "python",
   "nbconvert_exporter": "python",
   "pygments_lexer": "ipython3",
   "version": "3.9.7"
  }
 },
 "nbformat": 4,
 "nbformat_minor": 5
}
