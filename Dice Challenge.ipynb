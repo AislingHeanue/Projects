{
 "cells": [
  {
   "cell_type": "code",
   "execution_count": 53,
   "metadata": {},
   "outputs": [],
   "source": [
    "def olddice(dicelist=[[0,0,0]], moves = \"\"):\n",
    "    changeDict = {\"U\":[2,0],\"D\":[0,2],\"L\":[1,0],\"R\":[0,1]}\n",
    "    for letter in moves:\n",
    "        change,changeAndFlip = changeDict[letter]\n",
    "        for dice in dicelist:\n",
    "            dice[change],dice[changeAndFlip] = dice[changeAndFlip],7-dice[change]\n",
    "    #print([dice[0] for dice in dicelist])\n",
    "    return sum([dice[0] for dice in dicelist])\n",
    "                "
   ]
  },
  {
   "cell_type": "code",
   "execution_count": 54,
   "metadata": {},
   "outputs": [
    {
     "name": "stdout",
     "output_type": "stream",
     "text": [
      "13\n"
     ]
    }
   ],
   "source": [
    "print(olddice([[1,2,3],[1,2,4],[1,5,6],[3,4,5]],\"UULRDRUDLURRRRR\"))\n"
   ]
  },
  {
   "cell_type": "code",
   "execution_count": 55,
   "metadata": {},
   "outputs": [],
   "source": [
    "def diceindex(dicelist=[[0,0,0]], moves = \"\"):\n",
    "    changeDict = {\"U\":[2,0],\"D\":[0,2],\"L\":[1,0],\"R\":[0,1]}\n",
    "    total = 0\n",
    "    for i in range(len(moves)):\n",
    "        change,changeAndFlip = changeDict[moves[i]]\n",
    "        for dice in dicelist:\n",
    "            dice[change],dice[changeAndFlip] = dice[changeAndFlip],7-dice[change]\n",
    "        if dicelist[0][0] == dicelist[1][0]:\n",
    "            total += i\n",
    "            print(i)\n",
    "    return total"
   ]
  },
  {
   "cell_type": "code",
   "execution_count": 56,
   "metadata": {},
   "outputs": [],
   "source": [
    "def dice(dicelist, moves):\n",
    "    changeDict = {\"U\":[2,0],\"D\":[0,2],\"L\":[1,0],\"R\":[0,1]}\n",
    "    testDice = [1,2,3] #1 front, 2 left, 3 top\n",
    "    for letter in moves:\n",
    "        change,changeAndFlip = changeDict[letter]\n",
    "        testDice[change],testDice[changeAndFlip] = testDice[changeAndFlip],7-testDice[change]\n",
    "    if testDice[0] >= 4:\n",
    "        face = [6,5,4].index(testDice[0])  #this is the face opposite the real face but this is fixed on the next line\n",
    "        #print([7 - dice[face] for dice in dicelist])\n",
    "        return sum([7 - dice[face] for dice in dicelist])\n",
    "    else:\n",
    "        face = [1,2,3].index(testDice[0])\n",
    "        #print([dice[face] for dice in dicelist])\n",
    "        return sum([dice[face] for dice in dicelist])"
   ]
  },
  {
   "cell_type": "code",
   "execution_count": 57,
   "metadata": {},
   "outputs": [
    {
     "name": "stdout",
     "output_type": "stream",
     "text": [
      "13\n",
      "13\n",
      "24 24\n"
     ]
    }
   ],
   "source": [
    "dices = [[1,2,4],[1,5,3],[6,2,4],[5,1,3],[1,5,4],[1,2,3],[1,3,5],[1,4,2]]\n",
    "moves = \"LRUDDLRDLLDRURLUDRURDLRULDULLRDRLDRDRRLLDLRUUDRLDRRURRLUDUUDUDLLDRURLDLUUURRDDUDRDRURRLRRLLDRUUURLLRLRURRRUDUDURUDRURDRDDDURDLUDDLDUDRULDRULURLUULLLURDRLDUDRDUDRLDDRUULLLULRLDUURUUDRDLLDRRDRLLRUUURLDRULUDDRDDLDRURU\"\n",
    "print(olddice([[1,2,3],[1,2,4],[1,5,6],[3,4,5]],\"UULRDRUDLURRRRR\"))\n",
    "print(dice([[1,2,3],[1,2,4],[1,5,6],[3,4,5]],\"UULRDRUDLURRRRR\"))\n",
    "print(dice(dices,moves), olddice(dices,moves))"
   ]
  },
  {
   "cell_type": "code",
   "execution_count": 73,
   "metadata": {},
   "outputs": [
    {
     "name": "stdout",
     "output_type": "stream",
     "text": [
      "3454\n",
      "3454\n"
     ]
    }
   ],
   "source": [
    "import random as ran\n",
    "def randomizer(numdice,nummoves):\n",
    "    moves = \"\".join([ran.choice([\"U\",\"R\",\"L\",\"D\"]) for i in range(nummoves)])\n",
    "    dicelist = []\n",
    "    for dicenum in range(numdice):\n",
    "        choices = [1,2,3,4,5,6]\n",
    "        die = [0,0,0]\n",
    "        for i in range(3):\n",
    "            die[i] = ran.choice(choices)\n",
    "            choices.remove(die[i])\n",
    "            choices.remove(7-die[i])\n",
    "        dicelist += [die]\n",
    "    return dicelist, moves\n",
    "dicelist,moves = randomizer(1000,1000)\n",
    "print(dice(dicelist,moves))\n",
    "print(olddice(dicelist,moves))"
   ]
  },
  {
   "cell_type": "code",
   "execution_count": null,
   "metadata": {},
   "outputs": [],
   "source": []
  }
 ],
 "metadata": {
  "kernelspec": {
   "display_name": "Python 3",
   "language": "python",
   "name": "python3"
  },
  "language_info": {
   "codemirror_mode": {
    "name": "ipython",
    "version": 3
   },
   "file_extension": ".py",
   "mimetype": "text/x-python",
   "name": "python",
   "nbconvert_exporter": "python",
   "pygments_lexer": "ipython3",
   "version": "3.8.5"
  }
 },
 "nbformat": 4,
 "nbformat_minor": 2
}
