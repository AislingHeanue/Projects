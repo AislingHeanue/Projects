{
 "cells": [
  {
   "cell_type": "code",
   "execution_count": 3,
   "metadata": {},
   "outputs": [
    {
     "name": "stdout",
     "output_type": "stream",
     "text": [
      "389112\n"
     ]
    }
   ],
   "source": [
    "picklist = [\"a\",1,2,3,4,5,6,7,8,9]\n",
    "i = [0]*10\n",
    "count = 0\n",
    "for i[0] in list(set(picklist) - set(i[:0]) - set(\"a\")): #cant repeat a step and cant end before 4\n",
    "    for i[1] in list(set(picklist) - set(i[:1]) - set(\"a\")):\n",
    "        if skipcheck(i[:2],2) == 0:\n",
    "            for i[2] in list(set(picklist) - set(i[:2]) - set(\"a\")):\n",
    "                if skipcheck(i[:3],3) == 0:\n",
    "                    for i[3] in list(set(picklist) - set(i[:3]) - set(\"a\")):\n",
    "                        if skipcheck(i[:4],4) == 0:\n",
    "                            for i[4] in list(set(picklist) - set(i[:4])):\n",
    "                                if i[4] == \"a\":\n",
    "                                    count += 1\n",
    "                                if i[4] != \"a\" and skipcheck(i[:5],5) == 0:\n",
    "                                    for i[5] in list(set(picklist) - set(i[:5])):\n",
    "                                        if i[5] == \"a\":\n",
    "                                            count += 1\n",
    "                                        if i[5] != \"a\" and skipcheck(i[:6],6) == 0:\n",
    "                                            for i[6] in list(set(picklist) - set(i[:6])):\n",
    "                                                if i[6] == \"a\":\n",
    "                                                    count += 1\n",
    "                                                if i[6] != \"a\" and skipcheck(i[:7],7) == 0:\n",
    "                                                    for i[7] in list(set(picklist) - set(i[:7])):\n",
    "                                                        if i[7] == \"a\":\n",
    "                                                            count += 1\n",
    "                                                        if i[7] != \"a\" and skipcheck(i[:8],8) == 0:\n",
    "                                                            for i[8] in list(set(picklist) - set(i[:8])):\n",
    "                                                                if i[8] == \"a\":\n",
    "                                                                    count += 1\n",
    "                                                                if i[8] != \"a\":\n",
    "                                                                    count += 1\n",
    "print(count)"
   ]
  },
  {
   "cell_type": "code",
   "execution_count": 2,
   "metadata": {},
   "outputs": [],
   "source": [
    "def skipcheck(i,stepsIn):\n",
    "    a,b = i[stepsIn - 1], i[stepsIn - 2]\n",
    "    points = [a,b]\n",
    "    points.sort()\n",
    "    if points == [1,3] and 2 not in i:\n",
    "        return 1\n",
    "    if points == [3,9] and 6 not in i:\n",
    "        return 1\n",
    "    if points == [7,9] and 8 not in i:\n",
    "        return 1\n",
    "    if points == [1,7] and 4 not in i:\n",
    "        return 1\n",
    "    if (a+b)/2  == 5 and 5 not in i and a != 5:\n",
    "        return 1\n",
    "    return 0"
   ]
  },
  {
   "cell_type": "code",
   "execution_count": null,
   "metadata": {},
   "outputs": [],
   "source": []
  }
 ],
 "metadata": {
  "kernelspec": {
   "display_name": "Python 3",
   "language": "python",
   "name": "python3"
  },
  "language_info": {
   "codemirror_mode": {
    "name": "ipython",
    "version": 3
   },
   "file_extension": ".py",
   "mimetype": "text/x-python",
   "name": "python",
   "nbconvert_exporter": "python",
   "pygments_lexer": "ipython3",
   "version": "3.8.5"
  }
 },
 "nbformat": 4,
 "nbformat_minor": 4
}
